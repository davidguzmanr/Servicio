{
 "cells": [
  {
   "cell_type": "code",
   "execution_count": 2,
   "metadata": {},
   "outputs": [
    {
     "data": {
      "text/plain": [
       "animate_trajectory (generic function with 1 method)"
      ]
     },
     "execution_count": 2,
     "metadata": {},
     "output_type": "execute_result"
    }
   ],
   "source": [
    "using DifferentialEquations, Plots, LinearAlgebra, LaTeXStrings\n",
    "include(\"utils.jl\")"
   ]
  },
  {
   "cell_type": "markdown",
   "metadata": {},
   "source": [
    "# Geodésicas en Kerr"
   ]
  },
  {
   "cell_type": "markdown",
   "metadata": {},
   "source": [
    "## Plano ecuatorial"
   ]
  },
  {
   "cell_type": "markdown",
   "metadata": {},
   "source": [
    "Por el momento sólo tomemos en cuenta el plano ecuatorial $\\theta = \\pi/2$, en ese caso la métrica es\n",
    "\n",
    "$$ ds^{2} = -\\left( 1 - \\dfrac{2M}{r} \\right)dt^{2} - \\dfrac{4aM}{r}dtd\\varphi + \\dfrac{r^{2}}{\\Delta}dr^{2} + \\left( r^{2} + a^{2} + \\dfrac{2Ma^{2}}{r} \\right)d\\varphi^{2}. $$\n",
    "\n",
    "Las órbitas están en términos de las cantidades conservadas: la energía $\\varepsilon$ y el momento angular $\\ell$ (a lo largo del eje de simetría) de la partícula, las cuales surgen de la independencia de $t$ y $\\varphi$ de la métrica. En términos de los vectores de Killing $\\boldsymbol{\\xi}$, $\\boldsymbol{\\eta}$ y la 4-velocidad $\\boldsymbol{u}$ se tiene que \n",
    "\n",
    "\\begin{align*}\n",
    "\\varepsilon &= - \\boldsymbol{\\xi}\\cdot\\boldsymbol{u}, \\\\\n",
    "\\ell &= \\boldsymbol{\\eta}\\cdot\\boldsymbol{u}.\n",
    "\\end{align*}"
   ]
  },
  {
   "cell_type": "markdown",
   "metadata": {},
   "source": [
    "Las ecuaciones de la geodésica para el caso de Schwarzschild son\n",
    "\n",
    "\\begin{align}\n",
    "\\dfrac{d^2 t}{d\\lambda^2} &= \\dfrac{2M}{2Mr - r^2} \\left( \\dfrac{dt}{d\\lambda} \\right) \\left( \\dfrac{dr}{d\\lambda} \\right), \\\\\n",
    "\\dfrac{d^2 r}{d\\lambda^2} &= \\dfrac{M(2M-r)}{r^3} \\left( \\dfrac{dt}{d\\lambda} \\right)^{2} - \\dfrac{M}{2Mr - r^2} \\left( \\dfrac{dr}{d\\lambda} \\right)^{2} - (2M - r) \\left( \\dfrac{d\\theta}{d\\lambda} \\right)^{2} - (2M - r)\\sin^{2}\\theta \\left( \\dfrac{d\\phi}{d\\lambda} \\right)^{2}, \\\\\n",
    "\\dfrac{d^2 \\theta}{d\\lambda^2} &= - \\dfrac{2}{r} \\left( \\dfrac{dr}{d\\lambda} \\right) \\left( \\dfrac{d\\theta}{d\\lambda} \\right) + \\cos\\theta\\sin\\theta \\left( \\dfrac{d\\phi}{d\\lambda} \\right)^{2}, \\\\\n",
    "\\dfrac{d^2 \\phi}{d\\lambda^2} &= -\\dfrac{2}{r} \\left( \\left( \\dfrac{dr}{d\\lambda} \\right) + r\\cot\\theta \\left( \\dfrac{d\\theta}{d\\lambda} \\right) \\right) \\left( \\dfrac{d\\phi}{d\\lambda} \\right).\n",
    "\\end{align}\n",
    "\n",
    "Tomando $\\theta = \\pi / 2$ y considerando las cantidades conservadas $\\ell = r^{2}\\sin^{2}\\theta \\frac{d\\phi}{d\\lambda}$, $\\epsilon = \\left(1-\\frac{2M}{r}\\right)\\frac{dt}{d\\lambda}$ las ecuaciones para $r$ y $\\phi$ quedan\n",
    "\n",
    "\\begin{align}\n",
    "\\dfrac{d^2 r}{d\\lambda^2} &= -\\dfrac{M\\epsilon^2}{r^2}\\left( 1 - \\dfrac{2M}{r}\\right)^{-1} - \\dfrac{M}{2Mr - r^2} \\left( \\dfrac{dr}{d\\lambda} \\right)^{2} + \\left( 1 - \\dfrac{2M}{r}\\right)\\dfrac{\\ell^{2}}{r^3},\\\\\n",
    "\\dfrac{d^2 \\phi}{d\\lambda^2} &= -\\dfrac{2}{r}\\dfrac{dr}{d\\lambda}\\dfrac{d\\phi}{d\\lambda}.\n",
    "\\end{align}\n",
    "\n",
    "O usando $\\ell$ en la ecuación de $\\phi$\n",
    "\n",
    "\\begin{align}\n",
    "\\dfrac{d^2 r}{d\\lambda^2} &= -\\dfrac{M\\epsilon^2}{r^2}\\left( 1 - \\dfrac{2M}{r}\\right)^{-1} - \\dfrac{M}{2Mr - r^2} \\left( \\dfrac{dr}{d\\lambda} \\right)^{2} + \\left( 1 - \\dfrac{2M}{r}\\right)\\dfrac{\\ell^{2}}{r^3},\\\\\n",
    "\\dfrac{d\\phi}{d\\lambda} &= \\dfrac{\\ell}{r^2}.\n",
    "\\end{align}"
   ]
  },
  {
   "cell_type": "code",
   "execution_count": 45,
   "metadata": {},
   "outputs": [
    {
     "data": {
      "text/plain": [
       "dθ_dλ (generic function with 1 method)"
      ]
     },
     "execution_count": 45,
     "metadata": {},
     "output_type": "execute_result"
    }
   ],
   "source": [
    "function Δ(r,p)\n",
    "    M, a, ϵ, b, ℓ = p\n",
    "    return r^2 - 2*M*r + a^2\n",
    "end\n",
    "\n",
    "function ρ²(r, θ, p)\n",
    "    M, a, ϵ, b, ℓ = p\n",
    "    return r^2 + (a*cos(θ))^2\n",
    "end\n",
    "\n",
    "function Σ²(r, θ, p)\n",
    "    M, a, ϵ, b, ℓ = p\n",
    "    return (r^2 + a^2)^2 - a^2*Δ(r,p)*(sin(θ))^2\n",
    "end\n",
    "\n",
    "function dt_dλ(r, θ, p)\n",
    "    M, a, ϵ, b, ℓ = p\n",
    "    return (Σ²(r, θ, p)*ϵ - 2*a*M*r*ℓ)/(Δ(r,p)*ρ²(r, θ, p))\n",
    "end\n",
    "    \n",
    "function dϕ_dλ(r, θ, p)\n",
    "    M, a, ϵ, b, ℓ = p\n",
    "    return (2*a*M*r*ϵ + (ρ²(r, θ, p) - 2*M*r)*ℓ*(csc(θ))^2)/(Δ(r,p)*ρ²(r, θ, p))\n",
    "end\n",
    "\n",
    "function dθ_dλ(r, r′, θ, p)\n",
    "    M, a, ϵ, b, ℓ = p    \n",
    "    K = (((r^2 + a^2)*ϵ - a*ℓ)^2 - ρ²(r,θ,p)^2*r′^2)/Δ(r,p)\n",
    "    \n",
    "    return abs(sqrt(Complex((K - (ℓ - a*ϵ)^2 - (-a^2*ϵ^2 + ℓ^2*csc(θ)^2)*cos(θ)^2)/(ρ²(r,θ,p)^2))))    \n",
    "end"
   ]
  },
  {
   "cell_type": "code",
   "execution_count": 46,
   "metadata": {},
   "outputs": [
    {
     "data": {
      "text/plain": [
       "dr′_dλ (generic function with 1 method)"
      ]
     },
     "execution_count": 46,
     "metadata": {},
     "output_type": "execute_result"
    }
   ],
   "source": [
    "function dr′_dλ(r, r′, θ, θ′, p)\n",
    "    M, a, ϵ, b, ℓ = p\n",
    "    \n",
    "    num = (ρ²(r, θ, p)^2 * (r*(-a^2 + M*r) + a^2*(-M + r)*cos(θ)^2) * r′^2)/(a^2 + r*(-2*M + r)) + 2*a^2*cos(θ)*ρ²(r, θ, p)^2*sin(θ)*r′*θ′ +\n",
    "          (a^2 + r*(-2*M + r))*(M*(-r^2 + a^2*cos(θ)^2)*dt_dλ(r,θ,p)^2 + r*ρ²(r, θ, p)^2*(θ′^2) + 2*a*M*(r^2 - a^2*cos(θ)^2)*sin(θ)^2*dt_dλ(r,θ,p)*dϕ_dλ(r,θ,p) + sin(θ)^2*(r*ρ²(r, θ, p)^2 + a^2*M*(-r + a*cos(θ))*(r + a*cos(θ))*sin(θ)^2)*dϕ_dλ(r,θ,p)^2 )\n",
    "    den = ρ²(r, θ, p)^3\n",
    "    \n",
    "    return num/den\n",
    "    \n",
    "end"
   ]
  },
  {
   "cell_type": "code",
   "execution_count": 47,
   "metadata": {},
   "outputs": [
    {
     "data": {
      "text/plain": [
       "dθ′_dλ (generic function with 1 method)"
      ]
     },
     "execution_count": 47,
     "metadata": {},
     "output_type": "execute_result"
    }
   ],
   "source": [
    "function dθ′_dλ(r, r′, θ, θ′, p)\n",
    "    M, a, ϵ, b, ℓ = p\n",
    "    \n",
    "    num = -(a^2*cos(θ)*ρ²(r,θ,p)^2*sin(θ)*r′^2)/(a^2 + r*(-2*M + r)) + a^2*M*r*sin(2*θ)*dt_dλ(r,θ,p)^2 - 2*r*ρ²(r,θ,p)^2*r′*θ′ - 2*a*M*r*(a^2 + r^2)*sin(2*θ)*dt_dλ(r,θ,p)*dϕ_dλ(r,θ,p) + \n",
    "          cos(θ)*sin(θ)*(a^2*ρ²(r,θ,p)^2*θ′^2 + ((a^2 + r^2)*ρ²(r,θ,p)^2 + a^2*M*r*(3*a^2 + 4*r^2 + a^2*cos(2*θ))*sin(θ)^2)*dϕ_dλ(r, θ, p)^2 )\n",
    "    den = ρ²(r, θ, p)^3\n",
    "    \n",
    "    return num/den\n",
    "    \n",
    "end"
   ]
  },
  {
   "cell_type": "code",
   "execution_count": 48,
   "metadata": {},
   "outputs": [
    {
     "data": {
      "text/plain": [
       "parameterized_kerr! (generic function with 1 method)"
      ]
     },
     "execution_count": 48,
     "metadata": {},
     "output_type": "execute_result"
    }
   ],
   "source": [
    "function parameterized_kerr!(du, u, p, t)\n",
    "    \n",
    "    \"\"\"\n",
    "    u es un vector con las variables r'=dr/dλ, r, ϕ; p es un vector con los parámetros del agujero\n",
    "    \"\"\"\n",
    "\n",
    "    r′, r, θ′, θ, ϕ = u\n",
    "    M, a, ϵ, b, ℓ = p\n",
    "    σ = sign(ℓ)\n",
    "        \n",
    "    du[1] = dr′ = dr′_dλ(r, r′, θ, θ′, p)\n",
    "    du[2] = dr = r′\n",
    "    du[3] = dθ′ = dθ′_dλ(r, r′, θ, θ′, p)\n",
    "    du[4] = dθ = θ′\n",
    "    du[5] = dϕ = dϕ_dλ(r, θ, p)\n",
    "    \n",
    "end"
   ]
  },
  {
   "cell_type": "code",
   "execution_count": 49,
   "metadata": {},
   "outputs": [
    {
     "data": {
      "text/plain": [
       "intervalo_kerr (generic function with 1 method)"
      ]
     },
     "execution_count": 49,
     "metadata": {},
     "output_type": "execute_result"
    }
   ],
   "source": [
    "function intervalo_kerr(r, r′, ϕ, θ, θ′, p)\n",
    "    M, a, ϵ, b, ℓ = p\n",
    "    ds = -(1 - 2*M*r/ρ²(r, θ, p))*dt_dλ(r,θ,p)^2 - (4*M*a/r)*dϕ_dλ(r, θ, p)*dt_dλ(r,θ,p) + (r^2/Δ(r,p))*r′^2 + (r^2 + a^2 + 2*M*a^2/r)*dϕ_dλ(r, θ, p)^2\n",
    "    return ds    \n",
    "end"
   ]
  },
  {
   "cell_type": "code",
   "execution_count": 51,
   "metadata": {},
   "outputs": [
    {
     "data": {
      "text/plain": [
       "geodesics_kerr (generic function with 2 methods)"
      ]
     },
     "execution_count": 51,
     "metadata": {},
     "output_type": "execute_result"
    }
   ],
   "source": [
    "function geodesics_kerr(p, r0, r′0, ϕ0, θ0, λ_final, dλ_min, dλ_max=2*dλ_min)    \n",
    "    M, a, ϵ, b, ℓ = p\n",
    "    \n",
    "    if a > M\n",
    "        println(\"Error: a > M\")\n",
    "        return \n",
    "    end\n",
    "    \n",
    "    Δ0 = Δ(r0, p)\n",
    "    dt0_dλ = dt_dλ(r0, θ0, p)\n",
    "    dϕ0_dλ = dϕ_dλ(r0, θ0, p)\n",
    "    dθ0_dλ = dθ_dλ(r0, r′0, θ0, p)\n",
    "    \n",
    "    θ′0 = dθ_dλ(r0, r′0, θ0, p)\n",
    "    tspan = (0.0, λ_final)\n",
    "    \n",
    "    u0 = [r′0, r0, θ′0, θ0, ϕ0]  \n",
    "    \n",
    "    prob = ODEProblem(parameterized_kerr!, u0, tspan, p)\n",
    "    sol = solve(prob, dtmin=dλ_min, dtmax=dλ_max, force_dtmin=true);\n",
    "       \n",
    "    r′s, rs, θ′s, θs, ϕs = sol[1,:], sol[2,:], sol[3,:], sol[4,:], sol[5,:]\n",
    "    \n",
    "    xs = [rs[i]*cos(ϕs[i]) for i in 1:length(sol)]   \n",
    "    ys = [rs[i]*sin(ϕs[i]) for i in 1:length(sol)] \n",
    "    ds = [-(1 - 2*M/rs[i])*(dt_dλ(rs[i], θs[2], p))^2 - (4*a*M/rs[i])*dt_dλ(rs[i], θs[i], p)*dϕ_dλ(rs[i], p) + \n",
    "          (rs[i]^2/Δ(rs[i],p))*(r′s[i])^2 + (rs[i]^2 + a^2 + 2*M*a^2/rs[i])*(dϕ_dλ(rs[i], p))^2 for i in 1:length(rs)]\n",
    "    \n",
    "    return xs, ys, ds\n",
    "    \n",
    "end"
   ]
  },
  {
   "cell_type": "markdown",
   "metadata": {},
   "source": [
    "Parece que hay un error en alguna de las ecuaciones, pero no es sencillo ver en qué ecuación está el error."
   ]
  },
  {
   "cell_type": "code",
   "execution_count": 59,
   "metadata": {},
   "outputs": [
    {
     "name": "stderr",
     "output_type": "stream",
     "text": [
      "┌ Warning: First function call produced NaNs. Exiting.\n",
      "└ @ OrdinaryDiffEq /home/david/.julia/packages/OrdinaryDiffEq/VPJBD/src/initdt.jl:76\n",
      "┌ Warning: Automatic dt set the starting dt as NaN, causing instability.\n",
      "└ @ OrdinaryDiffEq /home/david/.julia/packages/OrdinaryDiffEq/VPJBD/src/solve.jl:459\n",
      "┌ Warning: NaN dt detected. Likely a NaN value in the state, parameters, or derivative value caused this outcome.\n",
      "└ @ DiffEqBase /home/david/.julia/packages/DiffEqBase/V7P18/src/integrator_interface.jl:323\n"
     ]
    },
    {
     "ename": "BoundsError",
     "evalue": "BoundsError: attempt to access 1-element Array{Float64,1} at index [2]",
     "output_type": "error",
     "traceback": [
      "BoundsError: attempt to access 1-element Array{Float64,1} at index [2]",
      "",
      "Stacktrace:",
      " [1] getindex at ./array.jl:744 [inlined]",
      " [2] (::var\"#59#62\"{Array{Float64,1},Float64,Float64,Array{Float64,1},Array{Float64,1},Array{Float64,1}})(::Int64) at ./none:0",
      " [3] iterate at ./generator.jl:47 [inlined]",
      " [4] collect(::Base.Generator{UnitRange{Int64},var\"#59#62\"{Array{Float64,1},Float64,Float64,Array{Float64,1},Array{Float64,1},Array{Float64,1}}}) at ./array.jl:622",
      " [5] geodesics_kerr(::Array{Float64,1}, ::Int64, ::Int64, ::Float64, ::Float64, ::Float64, ::Float64, ::Float64) at ./In[51]:26",
      " [6] geodesics_kerr(::Array{Float64,1}, ::Int64, ::Int64, ::Float64, ::Float64, ::Float64, ::Float64) at ./In[51]:2",
      " [7] top-level scope at util.jl:155",
      " [8] top-level scope at In[59]:17"
     ]
    }
   ],
   "source": [
    "M = 10\n",
    "a = 9.9\n",
    "ℓ = 1\n",
    "n = 1 # número de vueltas\n",
    "b = 3*sqrt(3)*M + 3.4823*M*exp(-2*n*π)\n",
    "ϵ = ℓ/b\n",
    "\n",
    "p = [M, a, ϵ, b, ℓ]\n",
    "\n",
    "r0 = 5*M\n",
    "r′0 = 5\n",
    "ϕ0 = π/2\n",
    "θ0 = 0.0\n",
    "\n",
    "λ_final = 10.0\n",
    "dλ = 1e-6\n",
    "\n",
    "@time xs, ys, ds = geodesics_kerr(p, r0, r′0, ϕ0, θ0, λ_final, dλ);\n",
    "\n",
    "animate_trajectory(xs, ys)"
   ]
  },
  {
   "cell_type": "code",
   "execution_count": null,
   "metadata": {},
   "outputs": [],
   "source": []
  }
 ],
 "metadata": {
  "kernelspec": {
   "display_name": "Julia 1.3.1",
   "language": "julia",
   "name": "julia-1.3"
  },
  "language_info": {
   "file_extension": ".jl",
   "mimetype": "application/julia",
   "name": "julia",
   "version": "1.3.1"
  }
 },
 "nbformat": 4,
 "nbformat_minor": 4
}
